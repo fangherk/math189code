{
 "cells": [
  {
   "cell_type": "markdown",
   "metadata": {},
   "source": [
    "We consider the dataset found at  \n",
    "http://kdd.ics.uci.edu/databases/reuters21578/reuters21578.html"
   ]
  },
  {
   "cell_type": "code",
   "execution_count": 1,
   "metadata": {
    "collapsed": false
   },
   "outputs": [],
   "source": [
    "# import basic libraries\n",
    "# using the nltk.corpus because the data is already\n",
    "# formatted in an easy to use manner\n",
    "import numpy as np\n",
    "import matplotlib.pyplot as plt\n",
    "import seaborn as sns\n",
    "from nltk.corpus import reuters\n",
    "from sklearn.feature_extraction import text\n",
    "%matplotlib inline"
   ]
  },
  {
   "cell_type": "code",
   "execution_count": 14,
   "metadata": {
    "collapsed": false
   },
   "outputs": [],
   "source": [
    "# gather the complete data matrix\n",
    "V = np.array([\" \".join(list(reuters.words(file_id))).lower() for file_id in reuters.fileids()])\n",
    "# use the tf-idf extraction method from the sklearn to get the tf-idf features from\n",
    "# raw text\n",
    "pretty = text.TfidfVectorizer()\n",
    "# Learn vocabulary and idf, return term-document matrix.\n",
    "V = pretty.fit_transform(V)"
   ]
  },
  {
   "cell_type": "code",
   "execution_count": 2,
   "metadata": {
    "collapsed": false
   },
   "outputs": [],
   "source": [
    "# define a simple cost function for the frobenius norm\n",
    "def cost_function(V, W, H):\n",
    "    \"\"\" general cost function \n",
    "    \n",
    "    V - complete data matrix\n",
    "    W - left hand side of matrix\n",
    "    H - right hand side of matrix\n",
    "    \"\"\"\n",
    "    cost = 0\n",
    "    # return the coordinate matrix of some compelte data matrix\n",
    "    modded = V.tocoo() \n",
    "    # add each row * column set\n",
    "    for row, col, v in zip(modded.row, modded.col, modded.data):\n",
    "         cost += np.square(v - np.inner(W[row], H[:,col]))\n",
    "    return cost"
   ]
  },
  {
   "cell_type": "code",
   "execution_count": 30,
   "metadata": {
    "collapsed": false
   },
   "outputs": [],
   "source": [
    "def nonNegFac(V, r=20, iters=100, eps = 1e-4):\n",
    "    \"\"\" Non-negative matrix factorization on complete data matrix.\n",
    "    \n",
    "    V - complete data matrix\n",
    "    r - reduced parameter size of the matrix\n",
    "    \"\"\"\n",
    "    \n",
    "    # generate the smaller matrices from V by taking\n",
    "    # random values, multiply to shrink the total size\n",
    "    # and make convergence easier\n",
    "    W = np.abs(np.random.randn(V.shape[0], r) * 1e-3)\n",
    "    H = np.abs(np.random.randn(r, V.shape[1]) * 1e-3)\n",
    "    \n",
    "    # add the first cost function\n",
    "    costs = [cost_function(V, W, H)]\n",
    "    diff = costs[0]\n",
    "    # iterate through given set of iters \n",
    "    # copy the paper's implementation \n",
    "    i = 0\n",
    "    \n",
    "    # use a tolerance, so we do not need to waste time\n",
    "    while diff > eps and i < iters:\n",
    "        if i % 2 == 0:\n",
    "            print(\"Iteration:{} \\t Cost:{}\".format(i, costs[-1]))\n",
    "        H = H*(W.T @ V) / ((W.T @ W) @ H)\n",
    "        W = W*(V @ H.T) / (W @ (H @ H.T))\n",
    "        \n",
    "        #add the cost again\n",
    "        costs.append(cost_function(V, W, H))\n",
    "        diff = abs(costs[-1] - costs[-2])\n",
    "        i += 1\n",
    "            \n",
    "    return W, H.T, costs"
   ]
  },
  {
   "cell_type": "code",
   "execution_count": 31,
   "metadata": {
    "collapsed": false
   },
   "outputs": [
    {
     "name": "stdout",
     "output_type": "stream",
     "text": [
      "Iteration:0 \t Cost:10786.250057984986\n",
      "Iteration:2 \t Cost:9486.053003639614\n",
      "Iteration:4 \t Cost:9130.950790600067\n",
      "Iteration:6 \t Cost:8913.648904409802\n",
      "Iteration:8 \t Cost:8718.620031406228\n",
      "Iteration:10 \t Cost:8551.758467759657\n",
      "Iteration:12 \t Cost:8452.418590640167\n",
      "Iteration:14 \t Cost:8393.880618189645\n",
      "Iteration:16 \t Cost:8356.729768936428\n",
      "Iteration:18 \t Cost:8331.919273449943\n",
      "Iteration:20 \t Cost:8314.34577172232\n",
      "Iteration:22 \t Cost:8300.832200053312\n",
      "Iteration:24 \t Cost:8289.81726982232\n",
      "Iteration:26 \t Cost:8280.538692202457\n",
      "Iteration:28 \t Cost:8272.592262554463\n",
      "Iteration:30 \t Cost:8265.665332787166\n",
      "Iteration:32 \t Cost:8259.41728721685\n",
      "Iteration:34 \t Cost:8253.684896561932\n",
      "Iteration:36 \t Cost:8248.35080152182\n",
      "Iteration:38 \t Cost:8243.290113759671\n",
      "Iteration:40 \t Cost:8238.462794967138\n",
      "Iteration:42 \t Cost:8233.911419235845\n",
      "Iteration:44 \t Cost:8229.767442288523\n",
      "Iteration:46 \t Cost:8226.100370432374\n",
      "Iteration:48 \t Cost:8222.79740166472\n",
      "Iteration:50 \t Cost:8219.758614754985\n",
      "Iteration:52 \t Cost:8217.100746423263\n",
      "Iteration:54 \t Cost:8214.905533764791\n",
      "Iteration:56 \t Cost:8213.096037366618\n"
     ]
    },
    {
     "data": {
      "text/plain": [
       "<matplotlib.text.Text at 0x18e246bbdd8>"
      ]
     },
     "execution_count": 31,
     "metadata": {},
     "output_type": "execute_result"
    },
    {
     "data": {
      "image/png": "[encoded data removed]",
      "text/plain": [
       "<matplotlib.figure.Figure at 0x18e24657cf8>"
      ]
     },
     "metadata": {},
     "output_type": "display_data"
    }
   ],
   "source": [
    "W, H, costs = nonNegFac(V, 20, 100)\n",
    "plt.plot(costs, \"r\")\n",
    "plt.title(\"Non Negative Matrix Factorization\")\n",
    "plt.xlabel(\"iter\")\n",
    "plt.ylabel(\"cost\")"
   ]
  },
  {
   "cell_type": "code",
   "execution_count": 53,
   "metadata": {
    "collapsed": false
   },
   "outputs": [
    {
     "name": "stdout",
     "output_type": "stream",
     "text": [
      "['bank' 'oper' 'mln' 'tonnes' 'qtly' 'profit' 'vs' 'oil' 'loss' 'dlrs' 'to'\n",
      " 'the' 'stg' '1987' '000' 'pct' 'billion' 'the' 'cts' 'march']\n",
      "['fed' 'vs' 'vs' 'wheat' 'div' 'vs' 'net' 'crude' 'vs' 'mln' 'shares' 'of'\n",
      " 'mln' 'mar' 'vs' 'in' 'surplus' 'to' 'qtr' 'franklin']\n",
      "['rate' 'excludes' 'loss' 'sugar' 'cts' 'mln' 'shr' 'prices' 'cts'\n",
      " 'quarter' 'it' 'said' 'money' 'apr' 'net' 'february' 'deficit' 'he' 'shr'\n",
      " 'payout']\n",
      "['pct' 'net' 'of' 'corn' 'record' 'net' 'revs' 'barrel' 'revs' 'share'\n",
      " 'said' 'and' 'market' '20' 'includes' 'january' 'francs' 'that' '1st'\n",
      " 'cts']\n",
      "['dealers' 'dlrs' 'includes' 'for' 'april' 'revs' 'mln' 'opec' 'shr'\n",
      " 'earnings' 'stock' 'in' 'bank' '26' 'avg' 'rose' 'marks' 'trade' 'net'\n",
      " 'mthly']\n",
      "['customer' 'discontinued' '1986' 'export' 'pay' 'shr' 'avg' 'to' '4th'\n",
      " 'year' 'its' 'will' 'bills' 'feb' 'year' 'year' 'in' 'in' '4th' 'fund']\n",
      "['money' 'or' 'year' 'to' 'prior' 'nine' 'shrs' 'gas' 'qtr' 'net' 'lt' 'it'\n",
      " 'band' 'oct' 'sales' 'rise' 'reserves' 'said' 'inc' 'prior']\n",
      "['rates' 'gain' 'note' '87' 'dividend' 'nil' 'mths' 'bpd' 'profit' 'first'\n",
      " 'of' 'on' 'england' '1986' 'shrs' 'from' 'to' 'and' 'share' 'div']\n",
      "['says' 'note' 'dlr' 'grain' 'vs' 'tax' 'lt' '50' 'year' 'for' 'company'\n",
      " 'company' 'assistance' '12' 'note' '1986' 'trade' 'japan' 'corp' 'pay']\n",
      "['repurchase' 'of' 'and' 'at' 'quarterly' '1986' 'cts' 'barrels' 'inc'\n",
      " '1986' 'inc' 'be' 'shortage' 'earnings' 'of' 'index' 'deposits' 'would'\n",
      " '2nd' 'insured']\n",
      "['reserves' 'operations' 'tax' 'the' 'sets' 'pretax' 'nine' 'bbl'\n",
      " 'includes' 'sales' 'share' 'for' 'the' '16' '500' 'the' 'account' 'on'\n",
      " '28' 'free']\n",
      "['market' 'shr' 'from' 'of' 'may' 'mths' '3rd' 'price' 'dlrs' 'or' 'common'\n",
      " 'by' 'revised' 'quarter' 'and' 'december' 'from' 'not' 'six' 'tax']\n",
      "['federal' 'year' '1985' 'usda' 'lt' 'lt' '31' 'said' 'net' 'in' 'for' 'to'\n",
      " 'help' '31' 'gain' 'compared' 'assets' 'is' 'vs' 'sets']\n",
      "['prime' '000' 'extraordinary' 'ec' '15' 'year' 'qtr' 'the' 'lt' 'loans'\n",
      " 'corp' 'new' 'forecast' 'first' 'periods' 'fell' '1986' 'of' 'per'\n",
      " 'income']\n",
      "['dollar' 'share' 'revs' 'tender' '10' 'six' 'sales' 'postings' 'dec'\n",
      " 'income' 'and' 'was' 'today' 'share' '700' 'prices' 'rose' 'be' 'or'\n",
      " 'record']\n",
      "['yen' 'extraordinary' '17' '1986' 'payable' '12' 'jan' 'raises' 'note'\n",
      " 'from' 'offer' 'is' 'in' '25' 'credits' 'inflation' 'current' 'dollar'\n",
      " 'note' 'vs']\n",
      "['at' 'exclude' '13' 'traders' 'regular' 'ct' 'note' 'and' '31' 'gain'\n",
      " 'group' 'quarter' 'at' '13' '100' 'after' 'fell' 'but' 'seven' '31']\n",
      "['banks' 'and' 'gain' 'tonne' 'march' 'sales' '12' 'petroleum' 'ct'\n",
      " 'revenues' 'split' 'first' 'around' '19' '20' 'statistics' 'loans' 'was'\n",
      " '17' 'qtrly']\n",
      "['to' 'revs' '29' 'china' 'payout' '31' '28' 'texas' 'discontinued'\n",
      " 'includes' 'stake' 'which' 'of' '11' '4th' 'consumer' 'foreign' 'as' '000'\n",
      " 'note']\n",
      "['the' 'cts' 'off' 'maize' '30' 'turnover' 'inc' 'energy' 'operations'\n",
      " 'and' 'has' 'as' 'provided' 'in' '200' 'and' 'crowns' 'japanese' 'two'\n",
      " '13']\n"
     ]
    }
   ],
   "source": [
    "top = np.array(pretty.get_feature_names()) # turn the feature names into an array\n",
    "# essentially we have a list of features now\n",
    "top = top[np.argsort(H, axis=0)]# get by row\n",
    "top = top[::-1]\n",
    "for i in top[:20]:\n",
    "    print(i)"
   ]
  },
  {
   "cell_type": "code",
   "execution_count": null,
   "metadata": {
    "collapsed": true
   },
   "outputs": [],
   "source": []
  }
 ],
 "metadata": {
  "anaconda-cloud": {},
  "kernelspec": {
   "display_name": "Python [conda root]",
   "language": "python",
   "name": "conda-root-py"
  },
  "language_info": {
   "codemirror_mode": {
    "name": "ipython",
    "version": 3
   },
   "file_extension": ".py",
   "mimetype": "text/x-python",
   "name": "python",
   "nbconvert_exporter": "python",
   "pygments_lexer": "ipython3",
   "version": "3.5.2"
  }
 },
 "nbformat": 4,
 "nbformat_minor": 1
}
