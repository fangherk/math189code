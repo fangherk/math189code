{
 "cells": [
  {
   "cell_type": "markdown",
   "metadata": {},
   "source": [
    "# MNIST DATA\n",
    "\n",
    "We are working with MNIST data, a toy dataset to test algorithms on.\n",
    "\n",
    "We have training data and test data.\n",
    "\n",
    "**Basics**: 28 x 28 images of handwritten digits as well as the label of which digit $0 \\leq label \\leq 9.$\n",
    "\n",
    "**Format**: label, pix-11, pix-12, pixe-13, pix-ij where the pixel is in the ith row and the jth column."
   ]
  },
  {
   "cell_type": "code",
   "execution_count": 80,
   "metadata": {
    "collapsed": false
   },
   "outputs": [],
   "source": [
    "import numpy as np\n",
    "import math\n",
    "import matplotlib.pyplot as plt\n",
    "import pandas as pd\n",
    "import seaborn as sns\n",
    "from scipy import sparse\n",
    "import scipy\n",
    "%matplotlib inline"
   ]
  },
  {
   "cell_type": "code",
   "execution_count": 75,
   "metadata": {
    "collapsed": false
   },
   "outputs": [],
   "source": [
    "# let's first start w. logistic regression\n",
    "# read in the data\n",
    "train = np.asarray(pd.read_csv('mnist_train.csv', header = None))\n",
    "test = np.asarray(pd.read_csv('mnist_test.csv', header = None))"
   ]
  },
  {
   "cell_type": "code",
   "execution_count": 35,
   "metadata": {
    "collapsed": false
   },
   "outputs": [
    {
     "data": {
      "text/plain": [
       "(12665, 785)"
      ]
     },
     "execution_count": 35,
     "metadata": {},
     "output_type": "execute_result"
    }
   ],
   "source": [
    "trainT = np.asarray([i for i in train if i[0] == 0 or i[0] == 1])\n",
    "testT = np.asarray([i for i in test if i[0] == 0 or i[0] == 1])\n",
    "\n",
    "trainT.shape"
   ]
  },
  {
   "cell_type": "code",
   "execution_count": 36,
   "metadata": {
    "collapsed": false
   },
   "outputs": [],
   "source": [
    "# split the features from the prediction values\n",
    "xTrain = trainT[:,1:]\n",
    "yTrain = trainT[:,0].reshape(trainT[:,0].shape[0],1)\n",
    "\n",
    "someNum = int(trainT.shape[0]/2)\n",
    "xtt = trainT[:someNum,1:]\n",
    "ytt = trainT[:someNum,0].reshape(someNum,1)\n",
    "\n",
    "xTest = testT[:,1:]\n",
    "yTest = testT[:,0].reshape(testT[:,0].shape[0],1)"
   ]
  },
  {
   "cell_type": "code",
   "execution_count": 37,
   "metadata": {
    "collapsed": false
   },
   "outputs": [
    {
     "name": "stdout",
     "output_type": "stream",
     "text": [
      "The number of samples in the training set for 0s and 1s is (12665, 785)\n",
      "The number of samples in the x training set for 0s and 1s is (12665, 784)\n",
      "The number of samples in the y training set for 0s and 1s is (12665, 1)\n",
      "The number of samples in the test set for 0s and 1s is (2115, 785)\n",
      "The number of samples in the x test set for 0s and 1s is (2115, 784)\n",
      "The number of samples in the y test set for 0s and 1s is (2115, 1)\n"
     ]
    }
   ],
   "source": [
    "print(\"The number of samples in the training set for 0s and 1s is {}\".format(trainT.shape))\n",
    "print(\"The number of samples in the x training set for 0s and 1s is {}\".format(xTrain.shape))\n",
    "print(\"The number of samples in the y training set for 0s and 1s is {}\".format(yTrain.shape))\n",
    "\n",
    "print(\"The number of samples in the test set for 0s and 1s is {}\".format(testT.shape))\n",
    "print(\"The number of samples in the x test set for 0s and 1s is {}\".format(xTest.shape))\n",
    "print(\"The number of samples in the y test set for 0s and 1s is {}\".format(yTest.shape))"
   ]
  },
  {
   "cell_type": "markdown",
   "metadata": {},
   "source": [
    "Now, we create gradient descent from a log-likehood estimate, hence we find the equation\n",
    "$$ \\theta_j := \\theta_j + \\alpha \\frac{\\partial l}{\\partial \\theta}$$\n",
    "where \n",
    "$$ \\frac{\\partial l}{\\partial \\theta} =  y-\\sigma(\\theta^T x)x_i + \\alpha \\theta$$\n",
    "where \n",
    "$$ \\sigma(\\theta^T x) = \\frac{1}{1+e^{-\\theta^T x}}$$\n"
   ]
  },
  {
   "cell_type": "code",
   "execution_count": 38,
   "metadata": {
    "collapsed": false
   },
   "outputs": [],
   "source": [
    "# x is an np array\n",
    "def sigmoid(x, thetas):\n",
    "    return 1.0 / (1.0 + np.exp(-(x @ thetas)))"
   ]
  },
  {
   "cell_type": "code",
   "execution_count": 39,
   "metadata": {
    "collapsed": true
   },
   "outputs": [],
   "source": [
    "def neg_log_likelihood(X,y, thetas, alpha=1000):\n",
    "    sig = sigmoid(X,thetas)\n",
    "    llhood = np.sum(y * np.log(sig)) + np.sum((1-y)* np.log(1-sig))\n",
    "    reg = alpha * (thetas.T @ thetas)/2\n",
    "    return -llhood + reg"
   ]
  },
  {
   "cell_type": "code",
   "execution_count": 40,
   "metadata": {
    "collapsed": false
   },
   "outputs": [],
   "source": [
    "def log_likelihood(X,y, thetas, alpha=1000):\n",
    "    sig = sigmoid(X,thetas)\n",
    "    llhood = np.sum(y * np.log(sig)) + np.sum((1-y)* np.log(1-sig))\n",
    "    reg = alpha * (thetas.T @ thetas)/2\n",
    "    return llhood + reg"
   ]
  },
  {
   "cell_type": "code",
   "execution_count": 41,
   "metadata": {
    "collapsed": false
   },
   "outputs": [],
   "source": [
    "def grad_llhood(X, y, thetas, alpha=1000):\n",
    "    val = X.T @ ( sigmoid(X,thetas) -y ) + alpha * thetas\n",
    "    return val"
   ]
  },
  {
   "cell_type": "code",
   "execution_count": 42,
   "metadata": {
    "collapsed": false
   },
   "outputs": [],
   "source": [
    "def gradient_desc(X,y, alp=1000, max_iters=10, tol=1e-6):\n",
    "    \n",
    "    thetas = np.zeros((xTrain.shape[1],1)) # should be the same shape as the number of features\n",
    "    outputs = [log_likelihood(X,y, thetas, alp)] # store the log_likelihood values\n",
    "    gradient = grad_llhood(X, y, thetas, alp) # takes the gradient of the likelihood for descent\n",
    "    \n",
    "    while len(outputs)-1  <= max_iters and np.linalg.norm(gradient) > tol:\n",
    "        gradient = grad_llhood(X, y, thetas, alp)\n",
    "        thetas = thetas - 1e-9 * gradient\n",
    "        outputs.append(neg_log_likelihood(X, y, thetas, alp))\n",
    "    return thetas, outputs"
   ]
  },
  {
   "cell_type": "code",
   "execution_count": 43,
   "metadata": {
    "collapsed": false
   },
   "outputs": [
    {
     "data": {
      "text/plain": [
       "array([31095, 17135, 17646, 10874, 11622, 35433, 16577, 21968, 36507, 37266], dtype=int64)"
      ]
     },
     "execution_count": 43,
     "metadata": {},
     "output_type": "execute_result"
    }
   ],
   "source": [
    "np.sum(xTrain, axis=1)[0:10]"
   ]
  },
  {
   "cell_type": "code",
   "execution_count": 44,
   "metadata": {
    "collapsed": false
   },
   "outputs": [],
   "source": [
    "thetas = np.zeros((xTrain.shape[1],1))\n",
    "sigmoid(xTrain, thetas)\n",
    "np.sum(thetas)\n",
    "gradient = grad_llhood(xTrain,yTrain,thetas)\n",
    "thetas = thetas - 1e-9 * gradient"
   ]
  },
  {
   "cell_type": "code",
   "execution_count": 45,
   "metadata": {
    "collapsed": false
   },
   "outputs": [
    {
     "name": "stdout",
     "output_type": "stream",
     "text": [
      "890.530075343\n",
      "-0.051445549\n",
      "307762256\n",
      "6051.37073994\n"
     ]
    },
    {
     "data": {
      "text/plain": [
       "array([[  9.56018047e-05],\n",
       "       [  9.16210613e-01],\n",
       "       [  8.86029962e-01],\n",
       "       ..., \n",
       "       [  7.71545132e-01],\n",
       "       [  5.05732715e-04],\n",
       "       [  8.32184217e-01]])"
      ]
     },
     "execution_count": 45,
     "metadata": {},
     "output_type": "execute_result"
    }
   ],
   "source": [
    "print(np.sum(neg_log_likelihood(xTrain, yTrain, thetas)))\n",
    "print(np.sum(thetas))\n",
    "print(np.sum(xTrain))\n",
    "print(np.sum(sigmoid(xTrain, thetas)))\n",
    "sigmoid(xTrain, thetas)"
   ]
  },
  {
   "cell_type": "code",
   "execution_count": 46,
   "metadata": {
    "collapsed": false
   },
   "outputs": [
    {
     "data": {
      "text/plain": [
       "array([[-8778.70904179]])"
      ]
     },
     "execution_count": 46,
     "metadata": {},
     "output_type": "execute_result"
    }
   ],
   "source": [
    "thetas = np.zeros((xTrain.shape[1],1)) # should be the same shape as the number of features\n",
    "log_likelihood(xTrain,yTrain, thetas,1e-3)"
   ]
  },
  {
   "cell_type": "code",
   "execution_count": 47,
   "metadata": {
    "collapsed": false
   },
   "outputs": [],
   "source": [
    "theta, outs = gradient_desc(xTrain, yTrain)"
   ]
  },
  {
   "cell_type": "code",
   "execution_count": 48,
   "metadata": {
    "collapsed": false
   },
   "outputs": [
    {
     "data": {
      "text/plain": [
       "[array([[-8778.70904179]]),\n",
       " array([[ 890.53007534]]),\n",
       " array([[ 413.4809945]]),\n",
       " array([[ 335.93985193]]),\n",
       " array([[ 300.88661553]]),\n",
       " array([[ 280.15559946]]),\n",
       " array([[ 265.61326024]]),\n",
       " array([[ 254.22082679]]),\n",
       " array([[ 244.67406157]]),\n",
       " array([[ 236.34974511]]),\n",
       " array([[ 228.91808508]]),\n",
       " array([[ 222.18587224]])]"
      ]
     },
     "execution_count": 48,
     "metadata": {},
     "output_type": "execute_result"
    }
   ],
   "source": [
    "outs"
   ]
  },
  {
   "cell_type": "code",
   "execution_count": 49,
   "metadata": {
    "collapsed": false
   },
   "outputs": [
    {
     "data": {
      "text/plain": [
       "[]"
      ]
     },
     "execution_count": 49,
     "metadata": {},
     "output_type": "execute_result"
    }
   ],
   "source": [
    "\n",
    "\n",
    "iters = []\n",
    "vals = []\n",
    "neg_vals = []\n",
    "for i, val in enumerate(outs[1:]):\n",
    "    iters.append(i)\n",
    "    neg_vals.append(val[0][0])\n",
    "    #vals.append(list(val)[1][0][0])\n",
    "vals\n"
   ]
  },
  {
   "cell_type": "code",
   "execution_count": 50,
   "metadata": {
    "collapsed": false,
    "scrolled": true
   },
   "outputs": [
    {
     "data": {
      "text/plain": [
       "<matplotlib.text.Text at 0x298f6029128>"
      ]
     },
     "execution_count": 50,
     "metadata": {},
     "output_type": "execute_result"
    },
    {
     "data": {
      "image/png": "[encoded data removed]",
      "text/plain": [
       "<matplotlib.figure.Figure at 0x298bc2a9a90>"
      ]
     },
     "metadata": {},
     "output_type": "display_data"
    }
   ],
   "source": [
    "iters\n",
    "plt.plot(iters, neg_vals)\n",
    "plt.xlabel(\" iteration\")\n",
    "plt.ylabel(\" likelihood Gradient Descent\")"
   ]
  },
  {
   "cell_type": "code",
   "execution_count": 51,
   "metadata": {
    "collapsed": true
   },
   "outputs": [],
   "source": [
    "def newton_method(X, y, thetas, alpha):\n",
    "    sig = sigmoid(X, thetas)\n",
    "    diago = X.T @ np.diag(np.diag(sig@(1-sig).T)) @ X \n",
    "    regulize = alpha * np.eye(X.shape[1])\n",
    "    return np.linalg.solve(\n",
    "        diago + regulize,\n",
    "        grad_llhood(X, y, thetas)\n",
    "    )"
   ]
  },
  {
   "cell_type": "code",
   "execution_count": 91,
   "metadata": {
    "collapsed": true
   },
   "outputs": [],
   "source": [
    "def newton_solver(X, y, alp=1000, max_iters=10, eps=1e-6):\n",
    "    thetas = np.zeros(xTrain.shape[1]).reshape(-1,1)\n",
    "    outputs = [log_likelihood(X,y, thetas, alp)]\n",
    "    newt = newton_method(X, y, thetas, alp)\n",
    "    \n",
    "    while(len(outputs)-1) <= max_iters and np.linalg.norm(newt) > eps:\n",
    "        newt = newton_method(X, y, thetas, alp)\n",
    "        thetas = thetas - alp*newt\n",
    "        outputs.append(log_likelihood(X, y, theta, alp))\n",
    "    return theta, outputs"
   ]
  },
  {
   "cell_type": "code",
   "execution_count": 92,
   "metadata": {
    "collapsed": false
   },
   "outputs": [],
   "source": [
    "weights, llhood = newton_solver(xTrain,yTrain)"
   ]
  },
  {
   "cell_type": "code",
   "execution_count": 95,
   "metadata": {
    "collapsed": false
   },
   "outputs": [],
   "source": [
    "\n",
    "newt_iters = []\n",
    "newt_vals = []\n",
    "for i, val in enumerate(llhood[:]):\n",
    "    newt_iters.append(i)\n",
    "    newt_vals.append(val[0][0])\n"
   ]
  },
  {
   "cell_type": "code",
   "execution_count": 96,
   "metadata": {
    "collapsed": false
   },
   "outputs": [
    {
     "data": {
      "text/plain": [
       "<matplotlib.text.Text at 0x298baff5160>"
      ]
     },
     "execution_count": 96,
     "metadata": {},
     "output_type": "execute_result"
    },
    {
     "data": {
      "image/png": "[encoded data removed]",
      "text/plain": [
       "<matplotlib.figure.Figure at 0x298bc3a3128>"
      ]
     },
     "metadata": {},
     "output_type": "display_data"
    }
   ],
   "source": [
    "plt.plot(newt_iters, newt_vals)\n",
    "plt.xlabel(\" iteration\")\n",
    "plt.ylabel(\" likelihood Newton's Method\")"
   ]
  },
  {
   "cell_type": "code",
   "execution_count": 159,
   "metadata": {
    "collapsed": false
   },
   "outputs": [
    {
     "name": "stdout",
     "output_type": "stream",
     "text": [
      "-10.0\n",
      "10.0\n"
     ]
    }
   ],
   "source": [
    "plot_values= []\n",
    "for lammy in np.linspace(-10,10,10):\n",
    "    if lammy % 2 == 0:\n",
    "        print(lammy)\n",
    "    weights, llhood = newton_solver(xTrain,yTrain,alp = lammy)\n",
    "    prediction = (xTrain @ weights > 0)\n",
    "    acc = (prediction == yTrain.astype(bool)).mean()\n",
    "    recall = np.count_nonzero(prediction == yTrain.astype(bool)) / prediction.sum()\n",
    "    f1 = 2 * acc * recall / (acc+recall)\n",
    "    plot_values.append((lammy, acc, recall, f1))"
   ]
  },
  {
   "cell_type": "code",
   "execution_count": 117,
   "metadata": {
    "collapsed": false
   },
   "outputs": [],
   "source": [
    "iters = []\n",
    "accs =[]\n",
    "recalls =[]\n",
    "f1s = []\n",
    "for a,b,c,d in plot_values:\n",
    "    iters.append(a)\n",
    "    accs.append(b)\n",
    "    recalls.append(c)\n",
    "    f1s.append(d)\n"
   ]
  },
  {
   "cell_type": "code",
   "execution_count": 154,
   "metadata": {
    "collapsed": false
   },
   "outputs": [
    {
     "data": {
      "text/plain": [
       "(0, 1.5)"
      ]
     },
     "execution_count": 154,
     "metadata": {},
     "output_type": "execute_result"
    },
    {
     "data": {
      "image/png": "[encoded data removed]",
      "text/plain": [
       "<matplotlib.figure.Figure at 0x298bc4aaba8>"
      ]
     },
     "metadata": {},
     "output_type": "display_data"
    }
   ],
   "source": [
    "\n",
    "fig= plt.figure(figsize=(5,5))\n",
    "axes = plt.axis()\n",
    "ax1 = fig.add_subplot(111)\n",
    "ax1.plot(iters, accs, 'r-', label = 'accuracy') \n",
    "ax1.plot(iters, recalls, 'g-', label = \"precision\")\n",
    "ax1.plot(iters, f1s,'b-', label = \"f1-score\")\n",
    "plt.legend()\n",
    "plt.xlim(-10,10)\n",
    "plt.ylim(0, 1.5)\n"
   ]
  },
  {
   "cell_type": "markdown",
   "metadata": {},
   "source": [
    "Notice that the negative values cause the accuracy to decrese rapidly, but the the line is stable afterwards at a high accuracy when the lambda is small."
   ]
  },
  {
   "cell_type": "code",
   "execution_count": 158,
   "metadata": {
    "collapsed": false
   },
   "outputs": [
    {
     "name": "stdout",
     "output_type": "stream",
     "text": [
      "0.996604816423\n"
     ]
    },
    {
     "data": {
      "text/plain": [
       "1.868541820873427"
      ]
     },
     "execution_count": 158,
     "metadata": {},
     "output_type": "execute_result"
    }
   ],
   "source": [
    "# predictions based off of newton's method\n",
    "prediction = (xTrain @ weights > 0)\n",
    "print((prediction == yTrain.astype(bool)).mean())\n"
   ]
  },
  {
   "cell_type": "markdown",
   "metadata": {},
   "source": [
    "Hence, it seems that we have an extremely high accuracy for the prediction using newton's method with a lambda of 1000 because we obtain an accuracy of roughly ~0.996604. "
   ]
  },
  {
   "cell_type": "code",
   "execution_count": null,
   "metadata": {
    "collapsed": true
   },
   "outputs": [],
   "source": []
  }
 ],
 "metadata": {
  "anaconda-cloud": {},
  "kernelspec": {
   "display_name": "Python [Root]",
   "language": "python",
   "name": "Python [Root]"
  },
  "language_info": {
   "codemirror_mode": {
    "name": "ipython",
    "version": 3
   },
   "file_extension": ".py",
   "mimetype": "text/x-python",
   "name": "python",
   "nbconvert_exporter": "python",
   "pygments_lexer": "ipython3",
   "version": "3.5.1"
  }
 },
 "nbformat": 4,
 "nbformat_minor": 0
}
