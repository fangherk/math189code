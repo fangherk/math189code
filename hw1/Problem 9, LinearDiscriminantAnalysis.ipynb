{
 "cells": [
  {
   "cell_type": "code",
   "execution_count": null,
   "metadata": {
    "collapsed": true
   },
   "outputs": [],
   "source": [
    "from sklearn.preprocessing import LabelEncoder\n",
    "import numpy as np\n",
    "import pandas as pd\n",
    "import matplotlib.pyplot as plt\n",
    "import seaborn as sns\n",
    "import math\n",
    "from collections import defaultdict\n",
    "%matplotlib inline"
   ]
  },
  {
   "cell_type": "code",
   "execution_count": 2,
   "metadata": {
    "collapsed": false
   },
   "outputs": [
    {
     "data": {
      "text/html": [
       "<div>\n",
       "<table border=\"1\" class=\"dataframe\">\n",
       "  <thead>\n",
       "    <tr style=\"text-align: right;\">\n",
       "      <th></th>\n",
       "      <th>Unnamed: 0</th>\n",
       "      <th>Sepal.Length</th>\n",
       "      <th>Sepal.Width</th>\n",
       "      <th>Petal.Length</th>\n",
       "      <th>Petal.Width</th>\n",
       "      <th>Species</th>\n",
       "    </tr>\n",
       "  </thead>\n",
       "  <tbody>\n",
       "    <tr>\n",
       "      <th>0</th>\n",
       "      <td>1</td>\n",
       "      <td>5.1</td>\n",
       "      <td>3.5</td>\n",
       "      <td>1.4</td>\n",
       "      <td>0.2</td>\n",
       "      <td>setosa</td>\n",
       "    </tr>\n",
       "    <tr>\n",
       "      <th>1</th>\n",
       "      <td>2</td>\n",
       "      <td>4.9</td>\n",
       "      <td>3.0</td>\n",
       "      <td>1.4</td>\n",
       "      <td>0.2</td>\n",
       "      <td>setosa</td>\n",
       "    </tr>\n",
       "    <tr>\n",
       "      <th>2</th>\n",
       "      <td>3</td>\n",
       "      <td>4.7</td>\n",
       "      <td>3.2</td>\n",
       "      <td>1.3</td>\n",
       "      <td>0.2</td>\n",
       "      <td>setosa</td>\n",
       "    </tr>\n",
       "    <tr>\n",
       "      <th>3</th>\n",
       "      <td>4</td>\n",
       "      <td>4.6</td>\n",
       "      <td>3.1</td>\n",
       "      <td>1.5</td>\n",
       "      <td>0.2</td>\n",
       "      <td>setosa</td>\n",
       "    </tr>\n",
       "    <tr>\n",
       "      <th>4</th>\n",
       "      <td>5</td>\n",
       "      <td>5.0</td>\n",
       "      <td>3.6</td>\n",
       "      <td>1.4</td>\n",
       "      <td>0.2</td>\n",
       "      <td>setosa</td>\n",
       "    </tr>\n",
       "  </tbody>\n",
       "</table>\n",
       "</div>"
      ],
      "text/plain": [
       "   Unnamed: 0  Sepal.Length  Sepal.Width  Petal.Length  Petal.Width Species\n",
       "0           1           5.1          3.5           1.4          0.2  setosa\n",
       "1           2           4.9          3.0           1.4          0.2  setosa\n",
       "2           3           4.7          3.2           1.3          0.2  setosa\n",
       "3           4           4.6          3.1           1.5          0.2  setosa\n",
       "4           5           5.0          3.6           1.4          0.2  setosa"
      ]
     },
     "execution_count": 2,
     "metadata": {},
     "output_type": "execute_result"
    }
   ],
   "source": [
    "data = pd.read_csv(\"iris.csv\")\n",
    "data.head()"
   ]
  },
  {
   "cell_type": "code",
   "execution_count": 3,
   "metadata": {
    "collapsed": false
   },
   "outputs": [],
   "source": [
    "X = data[[1,4]].values\n",
    "y = data['Species'].values"
   ]
  },
  {
   "cell_type": "code",
   "execution_count": 4,
   "metadata": {
    "collapsed": true
   },
   "outputs": [],
   "source": [
    "# Change our flowers to labels\n",
    "enc = LabelEncoder()\n",
    "label_encoder = enc.fit(y)\n",
    "y = label_encoder.transform(y)"
   ]
  },
  {
   "cell_type": "code",
   "execution_count": 5,
   "metadata": {
    "collapsed": false
   },
   "outputs": [
    {
     "name": "stdout",
     "output_type": "stream",
     "text": [
      "Mean Vector class 0: [ 5.006  0.246]\n",
      "\n",
      "Mean Vector class 1: [ 5.936  1.326]\n",
      "\n",
      "Mean Vector class 2: [ 6.588  2.026]\n",
      "\n"
     ]
    }
   ],
   "source": [
    "# First, let us find our mu values\n",
    "mean_vectors = []\n",
    "for cl in range(0,3):\n",
    "    mean_vectors.append(np.mean(X[y==cl], axis=0))\n",
    "    print('Mean Vector class {}: {}\\n'.format(cl, mean_vectors[cl]))"
   ]
  },
  {
   "cell_type": "code",
   "execution_count": 6,
   "metadata": {
    "collapsed": false
   },
   "outputs": [
    {
     "name": "stdout",
     "output_type": "stream",
     "text": [
      "[array([ 5.006,  0.246]), array([ 5.936,  1.326]), array([ 6.588,  2.026])]\n",
      "[ 5.006  0.246]\n",
      "[ 5.936  1.326]\n",
      "[ 6.588  2.026]\n"
     ]
    },
    {
     "data": {
      "text/plain": [
       "<matplotlib.text.Text at 0x7fe9828d8cc0>"
      ]
     },
     "execution_count": 6,
     "metadata": {},
     "output_type": "execute_result"
    },
    {
     "data": {
      "image/png": "[encoded data removed]",
      "text/plain": [
       "<matplotlib.figure.Figure at 0x7fe9828ae940>"
      ]
     },
     "metadata": {},
     "output_type": "display_data"
    }
   ],
   "source": [
    "fig, axis = plt.subplots(figsize=(6,6))\n",
    "print('{}'.format(mean_vectors[:]))\n",
    "xTerm = []\n",
    "yTerm = []\n",
    "for points in mean_vectors:\n",
    "    print(points)\n",
    "    xTerm.append(points[0])\n",
    "    yTerm.append(points[1])\n",
    "plt.scatter(xTerm, yTerm, c =['red', 'blue', 'green'], s =100)\n",
    "plt.plot(xTerm, yTerm)\n",
    "axis.set_xlabel(\"Sepal Length\")\n",
    "axis.set_ylabel(\"Petal Width\")"
   ]
  },
  {
   "cell_type": "code",
   "execution_count": 7,
   "metadata": {
    "collapsed": false
   },
   "outputs": [],
   "source": [
    "def discriminant_analysis(X, y, diago=False, alpha = 0.0):\n",
    "    mu = {}\n",
    "    prob_cl = {}\n",
    "    cov = {}\n",
    "    for label in np.unique(y):\n",
    "        mu[label] = X[y==label].mean(axis=0)\n",
    "        prob_cl[label] = (y==label).mean()\n",
    "        term = X[y==label] - mu[label]\n",
    "        cov[label] = term.T @ term /  (y==label).sum()\n",
    "    if diago:\n",
    "        cov = sum((y==label).sum() * cov[label] for label in np.unique(y))\n",
    "        cov = cov / y.shape[0]\n",
    "        cov = alpha*np.diag(np.diag(cov)) + (1-alpha)*cov\n",
    "    \n",
    "    return prob_cl, mu, cov\n",
    "    \n",
    "    \n",
    "# print(\"mu is {}\\n, pi is {}\\n, cov is {}\".format(mu, prob_cl, cov))"
   ]
  },
  {
   "cell_type": "code",
   "execution_count": 8,
   "metadata": {
    "collapsed": false
   },
   "outputs": [],
   "source": [
    "def normal_dist(X, mu, cov):\n",
    "    # predict class probability\n",
    "    term = X - mu\n",
    "    n = (X.shape[0]/2)\n",
    "    normalize = 1 / (np.power((2*np.pi), (n/2)) * np.sqrt(np.linalg.det(cov)))\n",
    "    exponen = np.exp(- (term.T @ np.linalg.inv(cov) @ term) /2)\n",
    "    return normalize * exponen\n"
   ]
  },
  {
   "cell_type": "markdown",
   "metadata": {},
   "source": [
    "All we need to find is the argmax of the p(x|y) * p(y).\n",
    "We know that the p(x|y) is given by the normal distribution.\n",
    "p(y), however, is given by number samples in class x over all samples."
   ]
  },
  {
   "cell_type": "code",
   "execution_count": 9,
   "metadata": {
    "collapsed": false
   },
   "outputs": [],
   "source": [
    "def results(X, prob_cl, mu, cov):\n",
    "    prob = np.zeros((X.shape[0], len(prob_cl)))\n",
    "    if type(cov) is not dict:\n",
    "        # converts cov into a dict with the flowers as numbers to access the values\n",
    "        idx = cov\n",
    "        cov = defaultdict(lambda: idx)\n",
    "    for i,x in enumerate(X):\n",
    "        # i is sample #, x is the sepal length and petal width pair\n",
    "        for j in range(len(prob_cl)):\n",
    "            # obtain the proability of every single sample. p(x|y)*p(y)\n",
    "            prob[i, j] = normal_dist(x, mu[j], cov[j]) * prob_cl[j]\n",
    "        prob = prob / prob.sum(axis = 1)[:, np.newaxis]\n",
    "    return prob\n",
    "\n"
   ]
  },
  {
   "cell_type": "code",
   "execution_count": 10,
   "metadata": {
    "collapsed": false
   },
   "outputs": [],
   "source": [
    "for alpha in np.linspace(0, 1, 0):\n",
    "    prob_cl, mu, cov = discriminant_analysis(X, y, diago=False, alpha=alpha)\n",
    "    highest_prob = (np.argmax(results(X, prob_cl, mu, cov), axis=1)==y).mean()\n",
    "    print('regularization is is {}, highest prob is {},'.format(alpha, highest_prob))"
   ]
  },
  {
   "cell_type": "code",
   "execution_count": 16,
   "metadata": {
    "collapsed": false,
    "scrolled": true
   },
   "outputs": [
    {
     "name": "stdout",
     "output_type": "stream",
     "text": [
      "reg = -9.19, highest_prob = 0.333,\n",
      "reg = -8.18, highest_prob = 0.333,\n",
      "reg = -7.17, highest_prob = 0.333,\n",
      "reg = -6.16, highest_prob = 0.333,\n",
      "reg = -5.15, highest_prob = 0.333,\n",
      "reg = -4.14, highest_prob = 0.333,\n",
      "reg = -3.13, highest_prob = 0.333,\n",
      "reg = -2.12, highest_prob = 0.333,\n",
      "reg = -1.11, highest_prob = 0.933,\n",
      "reg = -0.10, highest_prob = 0.960,\n",
      "reg = 0.91, highest_prob = 0.960,\n",
      "reg = 1.92, highest_prob = 0.960,\n",
      "reg = 2.93, highest_prob = 0.953,\n",
      "reg = 3.94, highest_prob = 0.333,\n",
      "reg = 4.95, highest_prob = 0.333,\n",
      "reg = 5.96, highest_prob = 0.333,\n",
      "reg = 6.97, highest_prob = 0.333,\n",
      "reg = 7.98, highest_prob = 0.333,\n",
      "reg = 8.99, highest_prob = 0.333,\n",
      "reg = 10.00, highest_prob = 0.333,\n"
     ]
    }
   ],
   "source": [
    "probs = []\n",
    "alphas = []\n",
    "count = 0\n",
    "for alpha in np.linspace(-10, 10, 100):\n",
    "    prob_cl, mu, cov = discriminant_analysis(X, y, diago=True, alpha=alpha)\n",
    "    alphas.append(alpha)\n",
    "    highest_prob = (np.argmax(results(X, prob_cl, mu, cov), axis=1)==y).mean()\n",
    "    probs.append(highest_prob)\n",
    "    count +=1\n",
    "    if count % 5 ==0:\n",
    "        print('reg = {:0.2f}, highest_prob = {:0.3f},'.format(alpha, highest_prob))\n",
    "        \n",
    "## works for linera scales\n",
    "    "
   ]
  },
  {
   "cell_type": "code",
   "execution_count": 21,
   "metadata": {
    "collapsed": false
   },
   "outputs": [
    {
     "name": "stdout",
     "output_type": "stream",
     "text": [
      "reg = -9.19, highest_prob = 0.967,\n",
      "reg = -8.18, highest_prob = 0.967,\n",
      "reg = -7.17, highest_prob = 0.967,\n",
      "reg = -6.16, highest_prob = 0.967,\n",
      "reg = -5.15, highest_prob = 0.967,\n",
      "reg = -4.14, highest_prob = 0.967,\n",
      "reg = -3.13, highest_prob = 0.967,\n",
      "reg = -2.12, highest_prob = 0.967,\n",
      "reg = -1.11, highest_prob = 0.967,\n",
      "reg = -0.10, highest_prob = 0.967,\n",
      "reg = 0.91, highest_prob = 0.967,\n",
      "reg = 1.92, highest_prob = 0.967,\n",
      "reg = 2.93, highest_prob = 0.967,\n",
      "reg = 3.94, highest_prob = 0.967,\n",
      "reg = 4.95, highest_prob = 0.967,\n",
      "reg = 5.96, highest_prob = 0.967,\n",
      "reg = 6.97, highest_prob = 0.967,\n",
      "reg = 7.98, highest_prob = 0.967,\n",
      "reg = 8.99, highest_prob = 0.967,\n",
      "reg = 10.00, highest_prob = 0.967,\n"
     ]
    }
   ],
   "source": [
    "probs = []\n",
    "alphas = []\n",
    "count = 0\n",
    "for alpha in np.linspace(-10, 10, 100):\n",
    "    prob_cl, mu, cov = discriminant_analysis(X, y, diago=False, alpha=alpha)\n",
    "    alphas.append(alpha)\n",
    "    highest_prob = (np.argmax(results(X, prob_cl, mu, cov), axis=1)==y).mean()\n",
    "    probs.append(highest_prob)\n",
    "    count +=1\n",
    "    if count % 5 ==0:\n",
    "        print('reg = {:0.2f}, highest_prob = {:0.3f},'.format(alpha, highest_prob))\n",
    "        \n",
    "# This occurs when we turn the linear discriminant analysis off and focus on Gaussian discriminant analysis"
   ]
  },
  {
   "cell_type": "code",
   "execution_count": 18,
   "metadata": {
    "collapsed": false
   },
   "outputs": [
    {
     "name": "stdout",
     "output_type": "stream",
     "text": [
      "Hence, the highest value obtained is 0.9666666666666667 at value -0.5050505050505052\n"
     ]
    }
   ],
   "source": [
    "idx = (probs.index(max(probs)))\n",
    "print(\"Hence, the highest value obtained is {} at value {}\".format(\n",
    "        max(probs), alphas[idx]))"
   ]
  },
  {
   "cell_type": "markdown",
   "metadata": {},
   "source": [
    "## Our optimized lambda is -0.505 in this case with 97% accuracy."
   ]
  },
  {
   "cell_type": "code",
   "execution_count": 31,
   "metadata": {
    "collapsed": false
   },
   "outputs": [
    {
     "data": {
      "text/plain": [
       "<matplotlib.text.Text at 0x7fe97e9eb8d0>"
      ]
     },
     "execution_count": 31,
     "metadata": {},
     "output_type": "execute_result"
    },
    {
     "data": {
      "image/png": "[encoded data removed]",
      "text/plain": [
       "<matplotlib.figure.Figure at 0x7fe97ea8d320>"
      ]
     },
     "metadata": {},
     "output_type": "display_data"
    }
   ],
   "source": [
    "xTerm = []\n",
    "yTerm = []\n",
    "for points in X:\n",
    "    xTerm.append(points[0])\n",
    "    yTerm.append(points[1])\n",
    "plt.scatter(xTerm, yTerm)\n",
    "plt.xlabel('Sepal Length')\n",
    "plt.ylabel('Petal Width')"
   ]
  },
  {
   "cell_type": "code",
   "execution_count": 41,
   "metadata": {
    "collapsed": false
   },
   "outputs": [
    {
     "data": {
      "text/plain": [
       "<matplotlib.legend.Legend at 0x7fe97e4e8828>"
      ]
     },
     "execution_count": 41,
     "metadata": {},
     "output_type": "execute_result"
    },
    {
     "data": {
      "image/png": "[encoded data removed]",
      "text/plain": [
       "<matplotlib.figure.Figure at 0x7fe97e5c20f0>"
      ]
     },
     "metadata": {},
     "output_type": "display_data"
    }
   ],
   "source": [
    "plt.scatter(data['Sepal.Length'], data['Petal.Width'],c=y,  cmap=plt.cm.Paired)\n",
    "plt.xlabel('Sepal Length')\n",
    "plt.ylabel('Petal Width')\n",
    "plt.title(\"Color Map of the three classes\")\n",
    "plt.legend()"
   ]
  },
  {
   "cell_type": "code",
   "execution_count": null,
   "metadata": {
    "collapsed": true
   },
   "outputs": [],
   "source": []
  }
 ],
 "metadata": {
  "anaconda-cloud": {},
  "kernelspec": {
   "display_name": "Python [Root]",
   "language": "python",
   "name": "Python [Root]"
  },
  "language_info": {
   "codemirror_mode": {
    "name": "ipython",
    "version": 3
   },
   "file_extension": ".py",
   "mimetype": "text/x-python",
   "name": "python",
   "nbconvert_exporter": "python",
   "pygments_lexer": "ipython3",
   "version": "3.5.1"
  }
 },
 "nbformat": 4,
 "nbformat_minor": 0
}
